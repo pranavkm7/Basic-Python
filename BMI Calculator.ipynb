{
 "cells": [
  {
   "cell_type": "markdown",
   "id": "24a29275",
   "metadata": {},
   "source": [
    "# BMI Calculator"
   ]
  },
  {
   "cell_type": "code",
   "execution_count": 17,
   "id": "8556011c",
   "metadata": {},
   "outputs": [
    {
     "name": "stdout",
     "output_type": "stream",
     "text": [
      "Please enter your name: Pranav\n",
      "Enter your weight in Kg: 91\n",
      "Enter your height in cm: 166\n",
      "Your BMI is  33.02366090869502\n",
      "Pranav  You are Obese, You need to start Running\n"
     ]
    }
   ],
   "source": [
    "Name = input(\"Please enter your name: \")\n",
    "\n",
    "weight = int(input(\"Enter your weight in Kg: \"))\n",
    "\n",
    "height = int(input(\"Enter your height in cm: \"))\n",
    "\n",
    "BMI= weight/((height/100)*(height/100))\n",
    "\n",
    "print(\"Your BMI is \",BMI)\n",
    "\n",
    "if BMI>0:\n",
    "    if (BMI<18.5):\n",
    "        print(Name,\" You are Underweight\")\n",
    "    elif (18.5<BMI<24.9):\n",
    "        print(Name,\" You are Normal weight\")\n",
    "    elif (25<BMI<29.9):\n",
    "        print(Name,\" You are Overweight\")\n",
    "    elif (30<BMI<34.9):\n",
    "        print(Name,\" You are Obese, You need to start workout\")\n",
    "    elif (34.9<BMI):\n",
    "        print(Name,\" You are Morbid obesity\")\n",
    "    else:\n",
    "        print(\"enter Valid data!\")\n",
    "else:\n",
    "    print(\"enter Valid data!\")"
   ]
  },
  {
   "cell_type": "code",
   "execution_count": null,
   "id": "a37100bf",
   "metadata": {},
   "outputs": [],
   "source": []
  },
  {
   "cell_type": "code",
   "execution_count": null,
   "id": "2ab9763c",
   "metadata": {},
   "outputs": [],
   "source": []
  },
  {
   "cell_type": "code",
   "execution_count": null,
   "id": "7ebac348",
   "metadata": {},
   "outputs": [],
   "source": [
    "Below 18.5 Underweight\n",
    "18.5–24.9 Normal weight\n",
    "25–29.9 Overweight\n",
    "30–35 Obese\n",
    "Over 35 Morbid obesity"
   ]
  },
  {
   "cell_type": "code",
   "execution_count": 14,
   "id": "9a145c41",
   "metadata": {},
   "outputs": [
    {
     "name": "stdout",
     "output_type": "stream",
     "text": [
      "Obese\n"
     ]
    }
   ],
   "source": [
    "if BMI>0:\n",
    "    if (BMI<18.5):\n",
    "        print(\"You are Underweight\")\n",
    "    elif (18.5<BMI<24.9):\n",
    "        print(\"Normal weight\")\n",
    "    elif (25<BMI<29.9):\n",
    "        print(\"Overweight\")\n",
    "    elif (30<BMI<34.9):\n",
    "        print(\"Obese\")\n",
    "    elif (34.9<BMI):\n",
    "        print(\"Morbid obesity\")\n",
    "    else:\n",
    "        print(\"enter Valid data!\")"
   ]
  },
  {
   "cell_type": "code",
   "execution_count": null,
   "id": "de0132b2",
   "metadata": {},
   "outputs": [],
   "source": []
  },
  {
   "cell_type": "code",
   "execution_count": null,
   "id": "f303bf32",
   "metadata": {},
   "outputs": [],
   "source": []
  },
  {
   "cell_type": "code",
   "execution_count": null,
   "id": "91014819",
   "metadata": {},
   "outputs": [],
   "source": []
  },
  {
   "cell_type": "code",
   "execution_count": null,
   "id": "8c3d49fa",
   "metadata": {},
   "outputs": [],
   "source": []
  },
  {
   "cell_type": "code",
   "execution_count": null,
   "id": "4270ce78",
   "metadata": {},
   "outputs": [],
   "source": []
  },
  {
   "cell_type": "code",
   "execution_count": null,
   "id": "d61995bc",
   "metadata": {},
   "outputs": [],
   "source": []
  },
  {
   "cell_type": "code",
   "execution_count": null,
   "id": "b1beb46e",
   "metadata": {},
   "outputs": [],
   "source": []
  },
  {
   "cell_type": "code",
   "execution_count": null,
   "id": "80e8c884",
   "metadata": {},
   "outputs": [],
   "source": []
  },
  {
   "cell_type": "code",
   "execution_count": null,
   "id": "1a33a05b",
   "metadata": {},
   "outputs": [],
   "source": []
  },
  {
   "cell_type": "code",
   "execution_count": null,
   "id": "82641299",
   "metadata": {},
   "outputs": [],
   "source": []
  },
  {
   "cell_type": "code",
   "execution_count": null,
   "id": "2aae9743",
   "metadata": {},
   "outputs": [],
   "source": []
  },
  {
   "cell_type": "code",
   "execution_count": null,
   "id": "eb087385",
   "metadata": {},
   "outputs": [],
   "source": []
  }
 ],
 "metadata": {
  "kernelspec": {
   "display_name": "Python 3 (ipykernel)",
   "language": "python",
   "name": "python3"
  },
  "language_info": {
   "codemirror_mode": {
    "name": "ipython",
    "version": 3
   },
   "file_extension": ".py",
   "mimetype": "text/x-python",
   "name": "python",
   "nbconvert_exporter": "python",
   "pygments_lexer": "ipython3",
   "version": "3.11.1"
  }
 },
 "nbformat": 4,
 "nbformat_minor": 5
}
